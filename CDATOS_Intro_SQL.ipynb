{
  "nbformat": 4,
  "nbformat_minor": 0,
  "metadata": {
    "colab": {
      "provenance": [],
      "collapsed_sections": [
        "Xxo_gWAeAr-k",
        "rhM_zRO1AvgR",
        "eO6UGey_fbVM",
        "bOFcdoBklzel",
        "1ENdvPDXl5Ol"
      ]
    },
    "kernelspec": {
      "name": "python3",
      "display_name": "Python 3"
    },
    "language_info": {
      "name": "python"
    }
  },
  "cells": [
    {
      "cell_type": "markdown",
      "source": [
        "# Importo librerías."
      ],
      "metadata": {
        "id": "Xxo_gWAeAr-k"
      }
    },
    {
      "cell_type": "code",
      "source": [
        "!pip install Faker pandas;\n"
      ],
      "metadata": {
        "id": "kHsuq9U47hUP",
        "collapsed": true
      },
      "execution_count": null,
      "outputs": []
    },
    {
      "cell_type": "markdown",
      "source": [
        "# Genero la BD SQLite con datos ficticios."
      ],
      "metadata": {
        "id": "rhM_zRO1AvgR"
      }
    },
    {
      "cell_type": "code",
      "execution_count": null,
      "metadata": {
        "id": "G0AwAOgC7dP6"
      },
      "outputs": [],
      "source": [
        "import sqlite3\n",
        "from faker import Faker\n",
        "import random\n",
        "\n",
        "# Conectar a la base de datos (crea el archivo si no existe)\n",
        "conn = sqlite3.connect('datos.db')\n",
        "cursor = conn.cursor()\n",
        "\n",
        "cursor.executescript('''\n",
        "DROP TABLE IF EXISTS empleado;\n",
        "CREATE TABLE empleado (\n",
        "    id INTEGER PRIMARY KEY AUTOINCREMENT,\n",
        "    pais TEXT NOT NULL,\n",
        "    nombre TEXT NOT NULL,\n",
        "    edad INTEGER,\n",
        "    puesto TEXT,\n",
        "    activo INTEGER CHECK(activo IN (0, 1)),\n",
        "    sueldo REAL\n",
        ");\n",
        "''')\n",
        "\n",
        "fake = Faker('es_ES') # Generar datos en español\n",
        "\n",
        "for _ in range(10000):\n",
        "    pais = fake.country()\n",
        "    nombre = fake.name()\n",
        "    edad = random.randint(22, 65)\n",
        "    puesto = fake.job()\n",
        "    activo = random.choice([0, 1])\n",
        "    sueldo = round(random.uniform(25000.00, 150000.00), 2)\n",
        "\n",
        "    cursor.execute('''\n",
        "    INSERT INTO empleado (pais, nombre, edad, puesto, activo, sueldo)\n",
        "    VALUES (?, ?, ?, ?, ?, ?)\n",
        "    ''', (pais, nombre, edad, puesto, activo, sueldo))\n",
        "\n",
        "cursor.executescript('''\n",
        "DROP TABLE IF EXISTS modelo_auto;\n",
        "CREATE TABLE modelo_auto (\n",
        "    modelo_id INTEGER PRIMARY KEY AUTOINCREMENT,\n",
        "    nombre_modelo TEXT NOT NULL\n",
        ");\n",
        "''')\n",
        "\n",
        "modelos = [\"Sedan\", \"SUV\", \"Hatchback\", \"Pickup\", \"Coupe\"]\n",
        "for modelo in modelos:\n",
        "    cursor.execute(\"INSERT INTO modelo_auto (nombre_modelo) VALUES (?)\", (modelo,))\n",
        "\n",
        "cursor.executescript('''\n",
        "DROP TABLE IF EXISTS auto_vendido;\n",
        "CREATE TABLE auto_vendido (\n",
        "    venta_id INTEGER PRIMARY KEY AUTOINCREMENT,\n",
        "    modelo_id INTEGER NOT NULL,\n",
        "    fecha_venta DATE,\n",
        "    precio REAL,\n",
        "    FOREIGN KEY (modelo_id) REFERENCES modelo_auto(modelo_id)\n",
        ");\n",
        "''')\n",
        "\n",
        "fake = Faker('es_ES')\n",
        "\n",
        "for _ in range(1000):\n",
        "    modelo_id = random.randint(1, len(modelos))\n",
        "    fecha_venta = fake.date_between(start_date='-2y', end_date='today')\n",
        "    precio = round(random.uniform(10000.00, 80000.00), 2)\n",
        "\n",
        "    cursor.execute('''\n",
        "    INSERT INTO auto_vendido (modelo_id, fecha_venta, precio)\n",
        "    VALUES (?, ?, ?)\n",
        "    ''', (modelo_id, fecha_venta, precio))\n",
        "\n",
        "\n",
        "conn.commit()"
      ]
    },
    {
      "cell_type": "markdown",
      "source": [
        "# Tablas\n",
        "\n",
        "| Empleado | Modelo_Auto | Auto_Vendido |\n",
        "|---|---|---|\n",
        "|ID|ID|venta_id|\n",
        "|Pais|Nombre_Modelo|modelo_id|\n",
        "|Nombre||fecha_venta|\n",
        "|Edad||precio|\n",
        "|Puesto|\n",
        "|Activo|\n",
        "|Sueldo|\n",
        "\n"
      ],
      "metadata": {
        "id": "eO6UGey_fbVM"
      }
    },
    {
      "cell_type": "markdown",
      "source": [
        "# Consultas"
      ],
      "metadata": {
        "id": "KkIiQgNaowEx"
      }
    },
    {
      "cell_type": "code",
      "source": [
        "# @title Select {\"run\":\"auto\",\"form-width\":\"1000px\"}\n",
        "import pandas as pd\n",
        "conn = sqlite3.connect('datos.db')\n",
        "consulta = \"select * from empleado;\" # @param {\"type\":\"string\",\"placeholder\":\"select * from empleado;\"}\n",
        "df = pd.read_sql_query(consulta, conn)\n",
        "conn.close()\n",
        "\n",
        "df"
      ],
      "metadata": {
        "id": "7R8mBpFLAXCp",
        "collapsed": true,
        "cellView": "form"
      },
      "execution_count": null,
      "outputs": []
    },
    {
      "cell_type": "code",
      "source": [
        "# @title Consulta con Algo Mas {\"run\":\"auto\",\"form-width\":\"1000px\"}\n",
        "import sqlite3\n",
        "import pandas as pd\n",
        "\n",
        "conn = sqlite3.connect('datos.db')\n",
        "\n",
        "consulta = \"select nombre,edad,sueldo from empleado where activo = 1 and pais = 'Argentina' order by edad desc limit 10;\" # @param {\"type\":\"string\",\"placeholder\":\"select * from empleados;\"}\n",
        "\n",
        "df = pd.read_sql_query(consulta, conn)\n",
        "conn.close()\n",
        "\n",
        "df"
      ],
      "metadata": {
        "collapsed": true,
        "cellView": "form",
        "id": "7FC7BJLtP07A"
      },
      "execution_count": null,
      "outputs": []
    },
    {
      "cell_type": "markdown",
      "source": [
        "---\n",
        "\n",
        "Ver orden de ejecución en Presentación\n",
        "\n",
        "---"
      ],
      "metadata": {
        "id": "0NhyWQSvh2po"
      }
    },
    {
      "cell_type": "markdown",
      "source": [
        "# Joins"
      ],
      "metadata": {
        "id": "bOFcdoBklzel"
      }
    },
    {
      "cell_type": "code",
      "source": [
        "# @title Ejemplo Joins {\"run\":\"none\",\"form-width\":\"1000px\"}\n",
        "conn = sqlite3.connect('datos.db')\n",
        "\n",
        "consulta = \"select vendido.modelo_id, fecha_venta, precio, modelo.nombre_modelo from auto_vendido vendido left join modelo_auto modelo on vendido.modelo_id = modelo.modelo_id;\" # @param {\"type\":\"string\",\"placeholder\":\"sselect vendido.modelo_id, fecha_venta, precio, modelo.nombre_modelo from auto_vendido vendido left join modelo_auto modelo on vendido.modelo_id = modelo.modelo_id;\"}\n",
        "\n",
        "df = pd.read_sql_query(consulta, conn)\n",
        "conn.close()\n",
        "\n",
        "df"
      ],
      "metadata": {
        "collapsed": true,
        "cellView": "form",
        "id": "5rrbkGR0ahhL"
      },
      "execution_count": null,
      "outputs": []
    },
    {
      "cell_type": "markdown",
      "source": [
        "---\n",
        "\n",
        "Ver Joins en Presentación\n",
        "\n",
        "---"
      ],
      "metadata": {
        "id": "mDyEPXUhhVex"
      }
    },
    {
      "cell_type": "markdown",
      "source": [
        "# Análisis"
      ],
      "metadata": {
        "id": "1ENdvPDXl5Ol"
      }
    },
    {
      "cell_type": "code",
      "source": [
        "# @title Análisis - Top 10 Plantilla mas Veterana {\"run\":\"auto\",\"form-width\":\"1000px\"}\n",
        "conn = sqlite3.connect('datos.db')\n",
        "\n",
        "query = \"select pais, count(*) q_empleados, round(avg(edad),2) prom_edad from empleado group by pais order by avg(edad) desc limit 10; \" # @param {\"type\":\"string\",\"placeholder\":\"select * from empleados;\"}\n",
        "\n",
        "df = pd.read_sql_query(query, conn)\n",
        "conn.close()\n",
        "\n",
        "df"
      ],
      "metadata": {
        "collapsed": true,
        "cellView": "form",
        "id": "3rQ0lCIvN9S7"
      },
      "execution_count": null,
      "outputs": []
    },
    {
      "cell_type": "code",
      "source": [
        "# @title Análisis - Top 3 Sueldos Por Pais {\"run\":\"auto\",\"form-width\":\"1000px\"}\n",
        "conn = sqlite3.connect('datos.db')\n",
        "\n",
        "query = \"select * from (select pais, id,nombre, sueldo, rank() over (partition by pais order by sueldo desc) ranking from empleado where activo = 1) where ranking < 4 order by pais limit 100;\" # @param {\"type\":\"string\",\"placeholder\":\"select * from empleados;\"}\n",
        "\n",
        "df = pd.read_sql_query(query, conn)\n",
        "conn.close()\n",
        "\n",
        "df"
      ],
      "metadata": {
        "collapsed": true,
        "id": "BGFhYUzaXZkF",
        "cellView": "form"
      },
      "execution_count": null,
      "outputs": []
    }
  ]
}